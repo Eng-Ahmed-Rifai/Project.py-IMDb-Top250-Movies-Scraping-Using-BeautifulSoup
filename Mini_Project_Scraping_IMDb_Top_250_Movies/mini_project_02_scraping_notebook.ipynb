{
 "cells": [
  {
   "attachments": {},
   "cell_type": "markdown",
   "metadata": {},
   "source": [
    "\n",
    "### AI, Mini Project 2 - Scraping IMDb Top 250 Movies\n",
    "\n",
    "Author: AhmedRifai"
   ]
  },
  {
   "cell_type": "code",
   "execution_count": 23,
   "metadata": {},
   "outputs": [],
   "source": [
    "# Importing necessary libraries\n",
    "from itertools import count, zip_longest\n",
    "from bs4 import BeautifulSoup\n",
    "import requests\n",
    "import csv\n",
    "import os"
   ]
  },
  {
   "cell_type": "markdown",
   "metadata": {},
   "source": [
    "Changing the current working directory to the directory of the file.\n",
    "- os.chdir(os.path.dirname(os.path.abspath(__file__)))"
   ]
  },
  {
   "cell_type": "code",
   "execution_count": 24,
   "metadata": {},
   "outputs": [],
   "source": [
    "# Initialize empty lists for movie information\n",
    "movies_name = []\n",
    "movies_year = []\n",
    "movies_rate = []\n",
    "links =[]\n",
    "rank = []\n",
    "Movielinks =[]"
   ]
  },
  {
   "cell_type": "code",
   "execution_count": 25,
   "metadata": {},
   "outputs": [],
   "source": [
    "# Get the data from the website\n",
    "result = requests.get(\"https://www.imdb.com/chart/top/?ref_=nv_mv_250\")\n",
    "\n",
    "# Get the content of the website\n",
    "src = result.content\n",
    "\n",
    "# Parse the HTML content of the website\n",
    "soup = BeautifulSoup(src , \"lxml\")\n",
    "\n",
    "# Find movie names, years, and rates\n",
    "movies_names = soup.find_all(\"td\",{\"class\":\"titleColumn\"})\n",
    "Year = soup.find_all(\"span\",{\"class\":\"secondaryInfo\"})\n",
    "movies_rates = soup.find_all(\"td\",{\"class\":\"ratingColumn imdbRating\"})"
   ]
  },
  {
   "cell_type": "code",
   "execution_count": 26,
   "metadata": {},
   "outputs": [],
   "source": [
    "# Iterate through the list of movie names and extract relevant information the movies name, year, rate, link\n",
    "for i in range(len(movies_names)):\n",
    "    movies_name.append(movies_names[i].find(\"a\").text)\n",
    "    rank.append(f\"Top rated movie #{i+1}\")\n",
    "    movies_year.append(f\"({Year[i].text})\")\n",
    "    movies_rate.append(movies_rates[i].text.strip())\n",
    "    Movielinks.append(f\"imdb.com{movies_names[i].find('a').attrs['href']}\")"
   ]
  },
  {
   "cell_type": "code",
   "execution_count": 28,
   "metadata": {},
   "outputs": [],
   "source": [
    "# Write the extracted information to a CSV file\n",
    "file_list = [rank,movies_name,movies_year,movies_rate ,Movielinks]\n",
    "exported = zip_longest(*file_list)\n",
    "with open ('Scraping_IMDb Top 250 Movies.csv','w',encoding='utf-8-sig') as myfile:\n",
    "    wr = csv.writer(myfile)\n",
    "    wr.writerow([\"Rank\",\"Movies Name\",\"Movies Year\",\"Movies Rate\",\"🔗Movies page site\"])\n",
    "    wr.writerows(exported)\n",
    "\n",
    "# End of the code"
   ]
  }
 ],
 "metadata": {
  "kernelspec": {
   "display_name": "Python 3.10.6 64-bit",
   "language": "python",
   "name": "python3"
  },
  "language_info": {
   "codemirror_mode": {
    "name": "ipython",
    "version": 3
   },
   "file_extension": ".py",
   "mimetype": "text/x-python",
   "name": "python",
   "nbconvert_exporter": "python",
   "pygments_lexer": "ipython3",
   "version": "3.11.2"
  },
  "orig_nbformat": 4,
  "vscode": {
   "interpreter": {
    "hash": "0fecdbd3b68776a87b9a410c0dc3ceb1f0fc14f37a8c89d61effe4924d15115f"
   }
  }
 },
 "nbformat": 4,
 "nbformat_minor": 2
}
